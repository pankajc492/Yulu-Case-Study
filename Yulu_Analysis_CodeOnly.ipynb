{
 "cells": [
  {
   "cell_type": "code",
   "execution_count": null,
   "id": "1d7045b0",
   "metadata": {},
   "outputs": [],
   "source": [
    "df = pd.read_csv('bike_sharing.txt')"
   ]
  },
  {
   "cell_type": "code",
   "execution_count": null,
   "id": "963f80cc",
   "metadata": {},
   "outputs": [],
   "source": [
    "df.head(10)"
   ]
  },
  {
   "cell_type": "code",
   "execution_count": null,
   "id": "73d8f464",
   "metadata": {},
   "outputs": [],
   "source": [
    "df.info()"
   ]
  },
  {
   "cell_type": "code",
   "execution_count": null,
   "id": "3e88eabe",
   "metadata": {},
   "outputs": [],
   "source": [
    "df.isnull().sum()"
   ]
  },
  {
   "cell_type": "code",
   "execution_count": null,
   "id": "e70c635d",
   "metadata": {},
   "outputs": [],
   "source": [
    "df['date'] = pd.to_datetime(df['date'])"
   ]
  },
  {
   "cell_type": "code",
   "execution_count": null,
   "id": "10b7014e",
   "metadata": {},
   "outputs": [],
   "source": [
    "df.shape"
   ]
  },
  {
   "cell_type": "code",
   "execution_count": null,
   "id": "8d543f3e",
   "metadata": {},
   "outputs": [],
   "source": [
    "df.dtypes"
   ]
  },
  {
   "cell_type": "code",
   "execution_count": null,
   "id": "30ce9dcb",
   "metadata": {},
   "outputs": [],
   "source": [
    "df['season'] = df['season'].astype('category')"
   ]
  },
  {
   "cell_type": "code",
   "execution_count": null,
   "id": "aa19cbe1",
   "metadata": {},
   "outputs": [],
   "source": [
    "df['holiday'] = df['holiday'].astype('category')"
   ]
  },
  {
   "cell_type": "code",
   "execution_count": null,
   "id": "6f915d28",
   "metadata": {},
   "outputs": [],
   "source": [
    "df['workingday'] = df['workingday'].astype('category')"
   ]
  },
  {
   "cell_type": "code",
   "execution_count": null,
   "id": "868e8ad8",
   "metadata": {},
   "outputs": [],
   "source": [
    "df['weather'] = df['weather'].astype('category')"
   ]
  },
  {
   "cell_type": "code",
   "execution_count": null,
   "id": "949e782d",
   "metadata": {},
   "outputs": [],
   "source": [
    "df.describe()"
   ]
  },
  {
   "cell_type": "code",
   "execution_count": null,
   "id": "6bf7a797",
   "metadata": {},
   "outputs": [],
   "source": [
    "df.nunique()"
   ]
  },
  {
   "cell_type": "code",
   "execution_count": null,
   "id": "3d1b761b",
   "metadata": {},
   "outputs": [],
   "source": [
    "sns.histplot(x='humidity', data=df, bins=20, kde=True, color='blue')"
   ]
  },
  {
   "cell_type": "code",
   "execution_count": null,
   "id": "0d0f7ba5",
   "metadata": {},
   "outputs": [],
   "source": [
    "sns.displot(data=df, x='temp', kde=True, bins=20, color='green')"
   ]
  },
  {
   "cell_type": "code",
   "execution_count": null,
   "id": "149030ac",
   "metadata": {},
   "outputs": [],
   "source": [
    "sns.countplot(x='season', data=df, palette='pastel')"
   ]
  },
  {
   "cell_type": "code",
   "execution_count": null,
   "id": "232d47b9",
   "metadata": {},
   "outputs": [],
   "source": [
    "sns.boxplot(x='season', y='count', data=df)"
   ]
  },
  {
   "cell_type": "code",
   "execution_count": null,
   "id": "b8601208",
   "metadata": {},
   "outputs": [],
   "source": [
    "sns.boxplot(x='weather', y='count', data=df, palette='coolwarm')"
   ]
  },
  {
   "cell_type": "code",
   "execution_count": null,
   "id": "6bc5206b",
   "metadata": {},
   "outputs": [],
   "source": [
    "corr = df.select_dtypes(include=['number']).corr()"
   ]
  },
  {
   "cell_type": "code",
   "execution_count": null,
   "id": "3d415a2a",
   "metadata": {},
   "outputs": [],
   "source": [
    "sns.heatmap(corr, annot=True, cmap='coolwarm', fmt='.2f')"
   ]
  },
  {
   "cell_type": "code",
   "execution_count": null,
   "id": "cc8113dc",
   "metadata": {},
   "outputs": [],
   "source": [
    "sns.pairplot(df, vars=['temp', 'humidity', 'windspeed', 'count'], hue='season')"
   ]
  },
  {
   "cell_type": "code",
   "execution_count": null,
   "id": "7de8fcaf",
   "metadata": {},
   "outputs": [],
   "source": [
    "missing_values = df.isnull().sum()"
   ]
  },
  {
   "cell_type": "code",
   "execution_count": null,
   "id": "4ac6b5ea",
   "metadata": {},
   "outputs": [],
   "source": [
    "missing_percentage = (df.isnull().mean()) * 100"
   ]
  },
  {
   "cell_type": "code",
   "execution_count": null,
   "id": "4ab879c2",
   "metadata": {},
   "outputs": [],
   "source": [
    "missing_data = pd.DataFrame({'Missing Values': missing_values, 'Percentage': missing_percentage})"
   ]
  },
  {
   "cell_type": "code",
   "execution_count": null,
   "id": "619aff91",
   "metadata": {},
   "outputs": [],
   "source": [
    "print(missing_data)"
   ]
  },
  {
   "cell_type": "code",
   "execution_count": null,
   "id": "9561c3ba",
   "metadata": {},
   "outputs": [],
   "source": [
    "Q1 = df.quantile(0.25)"
   ]
  },
  {
   "cell_type": "code",
   "execution_count": null,
   "id": "69ec9dcc",
   "metadata": {},
   "outputs": [],
   "source": [
    "Q3 = df.quantile(0.75)"
   ]
  },
  {
   "cell_type": "code",
   "execution_count": null,
   "id": "3e23d7b3",
   "metadata": {},
   "outputs": [],
   "source": [
    "IQR = Q3 - Q1"
   ]
  },
  {
   "cell_type": "code",
   "execution_count": null,
   "id": "f7428758",
   "metadata": {},
   "outputs": [],
   "source": [
    "lower_bound = Q1 - 1.5 * IQR"
   ]
  },
  {
   "cell_type": "code",
   "execution_count": null,
   "id": "d73273f2",
   "metadata": {},
   "outputs": [],
   "source": [
    "upper_bound = Q3 + 1.5 * IQR"
   ]
  },
  {
   "cell_type": "code",
   "execution_count": null,
   "id": "dccc1260",
   "metadata": {},
   "outputs": [],
   "source": [
    "outlier = df[(df < lower_bound) | (df > upper_bound)].any(axis=1)"
   ]
  },
  {
   "cell_type": "code",
   "execution_count": null,
   "id": "a5efba5b",
   "metadata": {},
   "outputs": [],
   "source": [
    "df['outlier'] = outlier"
   ]
  },
  {
   "cell_type": "code",
   "execution_count": null,
   "id": "6d8f2812",
   "metadata": {},
   "outputs": [],
   "source": [
    "from scipy.stats import levene, ttest_ind, shapiro, mannwhitneyu"
   ]
  },
  {
   "cell_type": "code",
   "execution_count": null,
   "id": "7eaf68ed",
   "metadata": {},
   "outputs": [],
   "source": [
    "non_working_day = df[df['workingday'] == 0]['count']"
   ]
  },
  {
   "cell_type": "code",
   "execution_count": null,
   "id": "60323ef9",
   "metadata": {},
   "outputs": [],
   "source": [
    "working_day = df[df['workingday'] == 1]['count']"
   ]
  },
  {
   "cell_type": "code",
   "execution_count": null,
   "id": "f4c40de6",
   "metadata": {},
   "outputs": [],
   "source": [
    "shapiro(non_working_day)"
   ]
  },
  {
   "cell_type": "code",
   "execution_count": null,
   "id": "cc8c1e44",
   "metadata": {},
   "outputs": [],
   "source": [
    "shapiro(working_day)"
   ]
  },
  {
   "cell_type": "code",
   "execution_count": null,
   "id": "283d7b35",
   "metadata": {},
   "outputs": [],
   "source": [
    "levene(working_day, non_working_day)"
   ]
  },
  {
   "cell_type": "code",
   "execution_count": null,
   "id": "9774a844",
   "metadata": {},
   "outputs": [],
   "source": [
    "mannwhitneyu(working_day, non_working_day, alternative='two-sided')"
   ]
  },
  {
   "cell_type": "code",
   "execution_count": null,
   "id": "54391930",
   "metadata": {},
   "outputs": [],
   "source": [
    "from scipy.stats import f_oneway"
   ]
  },
  {
   "cell_type": "code",
   "execution_count": null,
   "id": "d2dd4d3f",
   "metadata": {},
   "outputs": [],
   "source": [
    "f_oneway(df[df['weather'] == 1]['count'], df[df['weather'] == 2]['count'], df[df['weather'] == 3]['count'], df[df['weather'] == 4]['count'])"
   ]
  },
  {
   "cell_type": "code",
   "execution_count": null,
   "id": "57439315",
   "metadata": {},
   "outputs": [],
   "source": [
    "f_oneway(df[df['season'] == 1]['count'], df[df['season'] == 2]['count'], df[df['season'] == 3]['count'], df[df['season'] == 4]['count'])"
   ]
  },
  {
   "cell_type": "code",
   "execution_count": null,
   "id": "020ff6e7",
   "metadata": {},
   "outputs": [],
   "source": [
    "from scipy.stats import chi2_contingency"
   ]
  },
  {
   "cell_type": "code",
   "execution_count": null,
   "id": "f1693308",
   "metadata": {},
   "outputs": [],
   "source": [
    "contingency_table = pd.crosstab(df['weather'], df['season'])"
   ]
  },
  {
   "cell_type": "code",
   "execution_count": null,
   "id": "bb5d6bd0",
   "metadata": {},
   "outputs": [],
   "source": [
    "chi2_contingency(contingency_table)"
   ]
  }
 ],
 "metadata": {},
 "nbformat": 4,
 "nbformat_minor": 5
}
