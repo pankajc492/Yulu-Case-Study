{
 "cells": [
  {
   "cell_type": "markdown",
   "id": "aa03c999",
   "metadata": {},
   "source": [
    "# Yulu Case Study Analysis\n",
    "This notebook contains analysis of Yulu bike rental data."
   ]
  },
  {
   "cell_type": "markdown",
   "id": "c635a032",
   "metadata": {},
   "source": [
    "## Data Loading and Preprocessing"
   ]
  },
  {
   "cell_type": "code",
   "execution_count": null,
   "id": "22b5a581",
   "metadata": {},
   "outputs": [],
   "source": [
    "\n",
    "import pandas as pd\n",
    "\n",
    "# Load the dataset\n",
    "df = pd.read_csv('bike_sharing.txt')\n",
    "\n",
    "# Data overview\n",
    "df.info()\n",
    "df.isnull().sum()\n",
    "df['date'] = pd.to_datetime(df['date'])\n",
    "\n",
    "# Shape and datatypes\n",
    "print(df.shape)\n",
    "print(df.dtypes)\n",
    "\n",
    "# Convert categorical attributes\n",
    "df['season'] = df['season'].astype('category')\n",
    "df['holiday'] = df['holiday'].astype('category')\n",
    "df['workingday'] = df['workingday'].astype('category')\n",
    "df['weather'] = df['weather'].astype('category')\n"
   ]
  },
  {
   "cell_type": "markdown",
   "id": "487fb036",
   "metadata": {},
   "source": [
    "## Univariate and Bivariate Analysis"
   ]
  },
  {
   "cell_type": "code",
   "execution_count": null,
   "id": "37bfcba7",
   "metadata": {},
   "outputs": [],
   "source": [
    "\n",
    "import seaborn as sns\n",
    "import matplotlib.pyplot as plt\n",
    "\n",
    "# Histogram for Humidity\n",
    "sns.histplot(x='humidity', data=df, bins=20, kde=True, color='blue')\n",
    "plt.title('Humidity Distribution')\n",
    "plt.show()\n",
    "\n",
    "# Temperature Distribution\n",
    "sns.displot(data=df, x='temp', kde=True, bins=20, color='green')\n",
    "plt.title('Temperature Distribution')\n",
    "plt.show()\n",
    "\n",
    "# Countplot for Seasons\n",
    "sns.countplot(x='season', data=df, palette='pastel')\n",
    "plt.title('Season Distribution')\n",
    "plt.show()\n",
    "\n",
    "# Boxplot for Season vs Count\n",
    "sns.boxplot(x='season', y='count', data=df)\n",
    "plt.title('Season vs Bike Rentals')\n",
    "plt.show()\n",
    "\n",
    "# Heatmap for Correlation\n",
    "corr = df.select_dtypes(include=['number']).corr()\n",
    "sns.heatmap(corr, annot=True, cmap='coolwarm')\n",
    "plt.title('Correlation Heatmap')\n",
    "plt.show()\n"
   ]
  },
  {
   "cell_type": "markdown",
   "id": "5af14271",
   "metadata": {},
   "source": [
    "## Missing Values and Outliers"
   ]
  },
  {
   "cell_type": "code",
   "execution_count": null,
   "id": "16bc7e6e",
   "metadata": {},
   "outputs": [],
   "source": [
    "\n",
    "# Missing values\n",
    "missing = df.isnull().sum()\n",
    "missing_percent = (df.isnull().mean()) * 100\n",
    "print(pd.DataFrame({'Missing Values': missing, 'Percentage': missing_percent}))\n",
    "\n",
    "# Outlier Detection\n",
    "numerical = df.select_dtypes(include=['float64', 'int64']).columns\n",
    "Q1 = df[numerical].quantile(0.25)\n",
    "Q3 = df[numerical].quantile(0.75)\n",
    "IQR = Q3 - Q1\n",
    "outliers = ((df[numerical] < (Q1 - 1.5 * IQR)) | (df[numerical] > (Q3 + 1.5 * IQR))).any(axis=1)\n",
    "df['outlier'] = outliers\n"
   ]
  },
  {
   "cell_type": "markdown",
   "id": "4c19ad5c",
   "metadata": {},
   "source": [
    "## Statistical Testing"
   ]
  },
  {
   "cell_type": "markdown",
   "id": "71eb2756",
   "metadata": {},
   "source": [
    "### T-Test: Working vs Non-working Days"
   ]
  },
  {
   "cell_type": "code",
   "execution_count": null,
   "id": "d7ee957b",
   "metadata": {},
   "outputs": [],
   "source": [
    "\n",
    "from scipy.stats import shapiro, levene, mannwhitneyu\n",
    "\n",
    "wday = df[df['workingday'] == 1]['count']\n",
    "nwday = df[df['workingday'] == 0]['count']\n",
    "\n",
    "# Normality check\n",
    "print(\"Shapiro Test - Working Day:\", shapiro(wday))\n",
    "print(\"Shapiro Test - Non-working Day:\", shapiro(nwday))\n",
    "\n",
    "# Homogeneity of variance\n",
    "print(\"Levene’s Test:\", levene(wday, nwday))\n",
    "\n",
    "# Mann-Whitney U Test (non-parametric)\n",
    "stat, pval = mannwhitneyu(wday, nwday)\n",
    "print(\"Mann-Whitney U Test:\", stat, pval)\n"
   ]
  },
  {
   "cell_type": "markdown",
   "id": "42fa0f1e",
   "metadata": {},
   "source": [
    "### ANOVA Test: Season and Weather"
   ]
  },
  {
   "cell_type": "code",
   "execution_count": null,
   "id": "96003817",
   "metadata": {},
   "outputs": [],
   "source": [
    "\n",
    "from scipy.stats import f_oneway\n",
    "\n",
    "# Season\n",
    "season_anova = f_oneway(df[df['season'] == 1]['count'], df[df['season'] == 2]['count'],\n",
    "                        df[df['season'] == 3]['count'], df[df['season'] == 4]['count'])\n",
    "print(\"Season ANOVA:\", season_anova)\n",
    "\n",
    "# Weather\n",
    "weather_anova = f_oneway(df[df['weather'] == 1]['count'], df[df['weather'] == 2]['count'],\n",
    "                         df[df['weather'] == 3]['count'], df[df['weather'] == 4]['count'])\n",
    "print(\"Weather ANOVA:\", weather_anova)\n"
   ]
  },
  {
   "cell_type": "markdown",
   "id": "41a7de10",
   "metadata": {},
   "source": [
    "### Chi-Square Test: Season vs Weather"
   ]
  },
  {
   "cell_type": "code",
   "execution_count": null,
   "id": "c3c8b572",
   "metadata": {},
   "outputs": [],
   "source": [
    "\n",
    "from scipy.stats import chi2_contingency\n",
    "\n",
    "contingency = pd.crosstab(df['weather'], df['season'])\n",
    "chi2, pval, _, _ = chi2_contingency(contingency)\n",
    "print(\"Chi-Square Test:\", chi2, pval)\n"
   ]
  },
  {
   "cell_type": "markdown",
   "id": "2863ae1a",
   "metadata": {},
   "source": [
    "## Summary and Recommendations"
   ]
  },
  {
   "cell_type": "markdown",
   "id": "9e079bd7",
   "metadata": {},
   "source": [
    "\n",
    "### Key Insights:\n",
    "- Summer & Fall have the highest rentals, winter the lowest.\n",
    "- Clear weather boosts rentals; rainy/snowy days reduce demand.\n",
    "- Working vs non-working days do **not** show significant rental differences.\n",
    "- Season and Weather are **not independent**.\n",
    "\n",
    "### Recommendations:\n",
    "1. Increase bike availability during Summer & Fall.\n",
    "2. Launch weather-based pricing (discounts in rain).\n",
    "3. Target marketing during low-demand seasons.\n",
    "4. Use weather forecasts for real-time deployment planning.\n",
    "5. Focus on events, not weekdays/weekends, for demand spikes.\n"
   ]
  }
 ],
 "metadata": {},
 "nbformat": 4,
 "nbformat_minor": 5
}